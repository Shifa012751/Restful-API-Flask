{
  "cells": [
    {
      "cell_type": "markdown",
      "metadata": {
        "id": "qIFO3bQ-PnHm"
      },
      "source": [
        "# **PRACTICAL QUESTIONS**"
      ]
    },
    {
      "cell_type": "markdown",
      "metadata": {
        "id": "VnOeV-ZnYp7f"
      },
      "source": [
        "**Q 1:- What is a RESTful API?**"
      ]
    },
    {
      "cell_type": "markdown",
      "metadata": {
        "id": "816mi1lJb-rA"
      },
      "source": [
        "Answe:- A RESTful API (Representational State Transfer API) is a type of web service that adheres to the principles of REST architecture. It allows different software systems to communicate over the internet using standard HTTP methods. RESTful APIs are designed to be simple, scalable, and stateless.\n",
        "\n",
        "Key features of a RESTful API include:\n",
        "\n",
        "- **Statelessness:** Each request from a client contains all the information needed to process it, and the server does not store any client context between requests.\n",
        "- **Resources:** Data is represented as resources, identified by URLs (Uniform Resource Locators).\n",
        "- **HTTP Methods:** Standard methods like GET (retrieve), POST (create), PUT (update), DELETE (remove) are used to perform operations on resources.\n",
        "- **Representations:** Resources are transferred in formats like JSON or XML, representing the current state of the resource.\n",
        "- **Uniform Interface:** Consistent and predictable interactions across different parts of the API.\n",
        "\n",
        "In summary, a RESTful API provides a structured way for applications to interact over the web using standard conventions, making it easier to develop, maintain, and scale web services."
      ]
    },
    {
      "cell_type": "markdown",
      "metadata": {
        "id": "fZydiAO3dLgw"
      },
      "source": [
        "**Q2:- Explain the concept of API specification?**"
      ]
    },
    {
      "cell_type": "markdown",
      "metadata": {
        "id": "HkM5Tep1daXv"
      },
      "source": [
        "Answer:- An API specification is a detailed document or blueprint that defines how an API (Application Programming Interface) should behave and how developers can interact with it. It describes the available endpoints, request and response formats, data structures, authentication methods, and other important details necessary for integration.\n",
        "\n",
        "Key aspects of an API specification include:\n",
        "\n",
        "- **Endpoints:** The URLs or routes through which resources are accessed or manipulated.\n",
        "- **HTTP Methods:** The allowed actions (GET, POST, PUT, DELETE, etc.) on each endpoint.\n",
        "- **Request/Response Formats:** The structure and data types used in communication, often in JSON or XML.\n",
        "- **Parameters:** Inputs required or optional for API calls, such as query parameters or request bodies.\n",
        "- **Authentication & Authorization:** Security mechanisms required to access the API.\n",
        "- **Error Handling:** Error codes and messages to handle failures gracefully.\n",
        "- **Documentation & Examples:** Clear instructions and usage examples to help developers understand how to use the API.\n",
        "\n",
        "API specifications serve as a contract between API providers and consumers, ensuring everyone understands how to interact with the API correctly. Popular formats for API specifications include OpenAPI (formerly Swagger), RAML, and API Blueprint."
      ]
    },
    {
      "cell_type": "markdown",
      "metadata": {
        "id": "mSTpNWAjfWNY"
      },
      "source": [
        "**Q3:- What is Flask, and why is it popular for building APIs?**"
      ]
    },
    {
      "cell_type": "markdown",
      "metadata": {
        "id": "PFU6F34VfjiP"
      },
      "source": [
        "Answer:- Flask is a lightweight, flexible web framework written in Python that is used to build web applications and APIs. It provides the essential tools and libraries needed to create web servers, handle requests, and serve responses, but it leaves many design choices up to the developer, making it highly customizable.\n",
        "\n",
        "**Why is Flask popular for building APIs?**\n",
        "\n",
        "- **Simplicity:** Flask has a minimalistic design with a straightforward syntax, making it easy for developers to learn and use.\n",
        "- **Flexibility:** It doesn't impose a rigid structure, allowing developers to organize their code as they see fit and add only the components they need.\n",
        "- **Extensibility:** Flask has a rich ecosystem of extensions for features like database integration, authentication, and input validation.\n",
        "- **Quick Development:** Its simplicity enables rapid development of APIs, prototypes, and small to medium-sized applications.\n",
        "- **Strong Community:** Flask has a large, active community that provides support, tutorials, and extensions.\n",
        "\n",
        "Overall, Flask's combination of minimalism, flexibility, and ease of use makes it a popular choice for building RESTful APIs and web services in Python."
      ]
    },
    {
      "cell_type": "markdown",
      "metadata": {
        "id": "B99os69XftMf"
      },
      "source": [
        "**Q 4:- What is routing in Flask?**"
      ]
    },
    {
      "cell_type": "markdown",
      "metadata": {
        "id": "1_zNdoL0f7TX"
      },
      "source": [
        "Answer:- Routing in Flask is the mechanism that maps URLs (web addresses) to specific functions in your application. Essentially, it tells Flask which code to execute when a user visits a particular URL. You define routes using the @app.route() decorator above your view functions."
      ]
    },
    {
      "cell_type": "markdown",
      "metadata": {
        "id": "t7727DFdjc3L"
      },
      "source": [
        "**Q 5:-  How do you create a simple Flask application?**"
      ]
    },
    {
      "cell_type": "markdown",
      "metadata": {
        "id": "4PsJeir2wKBH"
      },
      "source": [
        "**Answer:-** Creating a simple Flask application involves a few straightforward steps. Here's a basic example to get you started:\n",
        "\n",
        "1. **Install Flask** (if you haven't already)\n",
        "2. **Create a Python script** (e.g., `app.py`)\n",
        "\n",
        "3. **Run the application**:\n",
        "\n",
        "4. **Access your app**:\n",
        "Open your web browser and go to `http://127.0.0.1:5000/`. You should see the message \"Hello, Flask!\"."
      ]
    },
    {
      "cell_type": "markdown",
      "metadata": {
        "id": "kxEraLDYwo4Y"
      },
      "source": [
        "**Q 6:- What are HTTP methods used in RESTful APIs?**"
      ]
    },
    {
      "cell_type": "markdown",
      "metadata": {
        "id": "gMAOR8E2w19H"
      },
      "source": [
        "**Answer:-** In RESTful APIs, HTTP methods specify the type of operation you want to perform on resources. The most common ones are:\n",
        "\n",
        "- **GET**: Retrieve data from the server (e.g., fetch a list of items or a specific item). It's safe and idempotent.\n",
        "- **POST**: Create a new resource on the server (e.g., add a new item). Not idempotent.\n",
        "- **PUT**: Update or replace an existing resource entirely. It's idempotent.\n",
        "- **PATCH**: Partially update an existing resource. Usually idempotent.\n",
        "- **DELETE**: Remove a resource from the server. Idempotent.\n",
        "- **HEAD**: Similar to GET but only fetches headers; used to check if a resource exists.\n",
        "- **OPTIONS**: Describe the communication options for a resource, like which methods are supported.\n",
        "\n",
        "These methods provide a standardized way to interact with resources in RESTful APIs."
      ]
    },
    {
      "cell_type": "markdown",
      "metadata": {
        "id": "46zAXkO8xHRD"
      },
      "source": [
        "**Q 7:-  What is the purpose of the @app.route() decorator in Flask?**"
      ]
    },
    {
      "cell_type": "markdown",
      "metadata": {
        "id": "qBH2oUD8x9Nf"
      },
      "source": [
        "Answer:- The `@app.route()` decorator in Flask is used to define the URL route (or endpoint) for a specific view function. It tells Flask which URL should trigger the execution of that function when accessed by a client.\n",
        "\n",
        "**Purpose of `@app.route()`:**\n",
        "\n",
        "- **Routing Requests:** It maps a URL path (like `/`, `/about`, `/user/<id>`) to a function that handles requests to that URL.\n",
        "- **Organizing Endpoints:** It helps organize different parts of your web application by associating URLs with specific functions.\n",
        "- **Handling HTTP Methods:** You can specify which HTTP methods (GET, POST, etc.) a route should respond to."
      ]
    },
    {
      "cell_type": "markdown",
      "metadata": {
        "id": "eQjvjwf6yAPf"
      },
      "source": [
        "**Q 8:-  What is the difference between GET and POST HTTP methods?**"
      ]
    },
    {
      "cell_type": "markdown",
      "metadata": {
        "id": "xENZ_2RNyXMb"
      },
      "source": [
        "Answer:- The main difference between GET and POST HTTP methods lies in how they send data and their typical use cases:\n",
        "\n",
        "- **GET**:\n",
        "  - Used to **retrieve** data from the server.\n",
        "  - Sends data appended to the URL as **query parameters** (e.g., `/search?q=flask`).\n",
        "  - Data is visible in the URL, so it's bookmarkable and shareable.\n",
        "  - Should be **idempotent**, meaning multiple identical GET requests produce the same result without side effects.\n",
        "  - Suitable for fetching resources like pages or data.\n",
        "\n",
        "- **POST**:\n",
        "  - Used to **submit** data to the server, often resulting in a change (like creating or updating data).\n",
        "  - Sends data in the **request body**, not visible in the URL.\n",
        "  - More secure for sensitive data, as it's not exposed in the URL.\n",
        "  - Not necessarily idempotent; multiple POST requests can create duplicates or cause different effects.\n",
        "  - Commonly used for form submissions, file uploads, or actions that modify data.\n",
        "\n",
        "In essence, GET is for retrieving data, and POST is for sending data or making changes on the server."
      ]
    },
    {
      "cell_type": "markdown",
      "metadata": {
        "id": "35-0DNP2yyjY"
      },
      "source": [
        "**Q 9:-  How do you handle errors in Flask APIs?**"
      ]
    },
    {
      "cell_type": "markdown",
      "metadata": {
        "id": "vAfIfUxZy9f7"
      },
      "source": [
        "Answer:- By implementing these error handling strategies, you can create a robust Flask API that provides meaningful error messages and appropriate HTTP status codes. This enhances the user experience and makes it easier for clients to understand and handle errors effectively."
      ]
    },
    {
      "cell_type": "markdown",
      "metadata": {
        "id": "8cSCj0OL0zQJ"
      },
      "source": [
        "**Q 10:-  How do you connect Flask to a SQL database?**"
      ]
    },
    {
      "cell_type": "markdown",
      "metadata": {
        "id": "2NMFL3yY0-F5"
      },
      "source": [
        "Answer:-\n",
        "- Use **Flask-SQLAlchemy** for an ORM, which simplifies database interactions and supports multiple databases.\n",
        "- Or connect directly using database-specific drivers if you prefer raw SQL.\n",
        "- Always configure your database URI appropriately."
      ]
    },
    {
      "cell_type": "markdown",
      "metadata": {
        "id": "8qXwL2Hq1jA7"
      },
      "source": [
        "**Q 11:- What is the role of Flask-SQLAlchemy?**"
      ]
    },
    {
      "cell_type": "markdown",
      "metadata": {
        "id": "hXJeuXzD1ruT"
      },
      "source": [
        "Answer:- Flask-SQLAlchemy serves as a Flask extension that integrates SQLAlchemy, a powerful Object-Relational Mapper (ORM), into your Flask application. Its main roles are to simplify database setup and interactions by providing a Flask-friendly way to define database models, handle sessions, and perform queries.\n",
        "\n",
        "In essence, Flask-SQLAlchemy:\n",
        "- Manages database connections and sessions automatically within Flask's application context.\n",
        "- Allows you to define database tables as Python classes (models).\n",
        "- Provides methods to create, read, update, and delete data using an object-oriented approach.\n",
        "- Supports multiple database backends like SQLite, PostgreSQL, MySQL, and more, through SQLAlchemy's dialects.\n",
        "\n",
        "Overall, it makes working with databases in Flask more straightforward and less boilerplate-heavy, enabling rapid development with robust database support."
      ]
    },
    {
      "cell_type": "markdown",
      "metadata": {
        "id": "4HfWungS2O5E"
      },
      "source": [
        "**Q 12:-What are Flask blueprints, and how are they useful?**"
      ]
    },
    {
      "cell_type": "markdown",
      "metadata": {
        "id": "IJZtjO022s6y"
      },
      "source": [
        "Answer:- Flask blueprints are a powerful feature that enhances the modularity and organization of Flask applications. By using blueprints, you can create reusable components, maintain a clean codebase, and improve collaboration among developers, making it easier to build and scale complex applications."
      ]
    },
    {
      "cell_type": "markdown",
      "metadata": {
        "id": "tnwsKCbb3J44"
      },
      "source": [
        "**Q 13:- What is the purpose of Flask's request object?**"
      ]
    },
    {
      "cell_type": "markdown",
      "metadata": {
        "id": "buReG6IY3QJ6"
      },
      "source": [
        "Answer:- The Flask request object serves as a central interface for accessing all information related to an incoming HTTP request from a client.its purpose is to:\n",
        "\n",
        "Access Incoming Data: Retrieve data sent by the client, including form submissions (request.form), URL query parameters (request.args), JSON payloads (request.json), and uploaded files (request.files).\n",
        "\n",
        "Inspect Request Details: Provide metadata about the request, such as the HTTP method (request.method), request headers (request.headers), URL components (request.url), and cookies (request.cookies).\n",
        "\n",
        "Drive Application Logic: Enable your Flask application to respond dynamically based on the request's content and characteristics, allowing for conditional processing, data validation, and other request-specific behaviors."
      ]
    },
    {
      "cell_type": "markdown",
      "metadata": {
        "id": "rCoXEQPz4Cvy"
      },
      "source": [
        "**Q 14:- How do you create a RESTful API endpoint using Flask?**"
      ]
    },
    {
      "cell_type": "markdown",
      "metadata": {
        "id": "7TDYxJL14Lwi"
      },
      "source": [
        "Answer:- To create a RESTful API endpoint in Flask, you define routes that correspond to resources and their operations, using HTTP methods like GET, POST, PUT, and DELETE. Flask makes this straightforward by allowing you to specify the route and methods, then handle the request data and return JSON responses."
      ]
    },
    {
      "cell_type": "markdown",
      "metadata": {
        "id": "Kuz-JDLQ5TFK"
      },
      "source": [
        "**Q 15:- What is the purpose of Flask's jsonify() function?**"
      ]
    },
    {
      "cell_type": "markdown",
      "metadata": {
        "id": "G3oyQwhTJXDL"
      },
      "source": [
        "***Answer:-*** The purpose of Flask's `jsonify()` function is to convert Python data structures (such as dictionaries, lists, etc.) into a JSON-formatted response that can be sent back to clients. It sets the appropriate MIME type (`application/json`) and serializes the data, making it easy to create APIs or send structured data in a web application built with Flask."
      ]
    },
    {
      "cell_type": "markdown",
      "metadata": {
        "id": "abJR-9IMJniM"
      },
      "source": [
        "**Q 16:- Explain Flask’s url_for() function.**"
      ]
    },
    {
      "cell_type": "markdown",
      "metadata": {
        "id": "vRMKAJpiJtOk"
      },
      "source": [
        "***Answer:-*** Flask's url_for() function is used to generate a URL for a given endpoint (typically a view function) dynamically. Instead of hardcoding URLs, you pass the name of the view function and any necessary parameters, and url_for() constructs the correct URL based on your application's routing configuration.\n",
        "\n",
        "Main purposes of url_for() include:\n",
        "\n",
        "Avoiding hardcoded URLs: Ensures that URLs are generated correctly even if route patterns change.\n",
        "Handling URL parameters: Easily generate URLs with variable parts, such as /user/<username>.\n",
        "Maintaining URL consistency: Helps keep URLs consistent throughout your app."
      ]
    },
    {
      "cell_type": "markdown",
      "metadata": {
        "id": "E3a-d8LIKDDs"
      },
      "source": [
        "***Q 17:-  How does Flask handle static files (CSS, JavaScript, etc.)?***"
      ]
    },
    {
      "cell_type": "markdown",
      "metadata": {
        "id": "KnsJWJwIKImL"
      },
      "source": [
        "***Answer:-*** Flask handles static files by automatically serving them from a designated folder named **`static`**. When a user requests a static file (like a CSS or JavaScript file), Flask maps the URL to that file inside the static folder and delivers it to the browser.\n",
        "\n",
        "In development, Flask manages this automatically, allowing you to include and access static assets in your web pages. In production, it's recommended to let a separate web server (like Nginx) serve these files for better performance and scalability."
      ]
    },
    {
      "cell_type": "markdown",
      "metadata": {
        "id": "yj9OHniuLAt0"
      },
      "source": [
        "**Q 18:-  What is an API specification, and how does it help in building a Flask API?**"
      ]
    },
    {
      "cell_type": "markdown",
      "metadata": {
        "id": "_BJxPQTdLGf0"
      },
      "source": [
        "***Answer:-*** An API specification is a formal, detailed description of how an API functions, including its available endpoints, request and response formats, parameters, authentication methods, and expected behaviors. It acts as a blueprint that guides developers in designing, building, and integrating with the API.\n",
        "\n",
        "In building a Flask API, an API specification helps by providing a clear roadmap, ensuring that everyone involved understands how the API should work. It promotes consistency and helps prevent misunderstandings. Additionally, with a well-defined specification, tools can automatically generate documentation, client SDKs, or even server code, streamlining development and testing processes. Overall, it makes building, maintaining, and consuming the API more organized and efficient."
      ]
    },
    {
      "cell_type": "markdown",
      "metadata": {
        "id": "K7zgK97SLOs0"
      },
      "source": [
        "**Q 19:- What are HTTP status codes, and why are they important in a Flask API?**"
      ]
    },
    {
      "cell_type": "markdown",
      "metadata": {
        "id": "tE-Yu0oHLad8"
      },
      "source": [
        "***Answer:-*** HTTP status codes are standardized three-digit numbers sent by a server in response to an HTTP request. They indicate whether the request was successful, encountered an error, or requires some additional action. For example, 200 means success, 404 means not found, and 500 indicates a server error.\n",
        "\n",
        "**In a Flask API, they are important because:**\n",
        "\n",
        "- **Communicate results clearly:** They inform clients about the outcome of their request in a standard way.\n",
        "- **Enable proper error handling:** Clients can respond appropriately based on the status code (e.g., retry on 429, show error messages on 400/500).\n",
        "- **Improve API usability:** Using correct status codes makes your API predictable and easier to integrate with.\n",
        "- **Support debugging and monitoring:** They help developers identify issues quickly by indicating the type of problem.\n",
        "\n",
        "Overall, HTTP status codes are essential for robust, user-friendly, and maintainable API communication."
      ]
    },
    {
      "cell_type": "markdown",
      "metadata": {
        "id": "-jpWwFvJLugT"
      },
      "source": [
        "**Q 20:-  How do you handle POST requests in Flask?**"
      ]
    },
    {
      "cell_type": "markdown",
      "metadata": {
        "id": "SomrUlHqL-jj"
      },
      "source": [
        "***Answer:-***In Flask, handling POST requests involves defining a route that accepts POST methods and processing the incoming data. Here are the key steps to handle POST requests:\n",
        "\n",
        "Define a Route: Use the @app.route() decorator to define a route that specifies the URL endpoint and the methods it accepts, including POST.\n",
        "\n",
        "Access Request Data: Use the request object from Flask to access the data sent in the POST request. This can include form data, JSON data, or files.\n",
        "\n",
        "Process the Data: After retrieving the data, you can process it as needed, such as saving it to a database, performing calculations, or returning a response.\n",
        "\n",
        "Return a Response: Finally, return an appropriate response to the client, which can be a success message, an error message, or a redirect."
      ]
    },
    {
      "cell_type": "markdown",
      "metadata": {
        "id": "BS76EZlXQdih"
      },
      "source": [
        "**Q 21:-  How would you secure a Flask API?**"
      ]
    },
    {
      "cell_type": "markdown",
      "metadata": {
        "id": "m455EwEGQySK"
      },
      "source": [
        "***Answer:-*** To secure a Flask API, consider the following key strategies:\n",
        "\n",
        "1. **Authentication**: Use token-based methods (e.g., JWT) or OAuth2 for user verification.\n",
        "2. **Authorization**: Implement role-based access control (RBAC) to manage user permissions.\n",
        "3. **Input Validation**: Validate and sanitize incoming data to prevent injection attacks.\n",
        "4. **HTTPS**: Serve the API over HTTPS to encrypt data in transit.\n",
        "5. **Rate Limiting**: Use tools like Flask-Limiter to prevent abuse and denial-of-service attacks.\n",
        "6. **CORS**: Configure Cross-Origin Resource Sharing policies to control access from different domains.\n",
        "7. **Error Handling**: Provide generic error messages to avoid exposing sensitive information.\n",
        "8. **Logging and Monitoring**: Track access and errors, and monitor logs for suspicious activity.\n",
        "9. **Environment Variables**: Store sensitive information securely in environment variables.\n",
        "10. **Regular Updates**: Keep Flask and its dependencies updated to mitigate known vulnerabilities.\n",
        "\n",
        "Implementing these measures will help protect your Flask API from various security threats."
      ]
    },
    {
      "cell_type": "markdown",
      "metadata": {
        "id": "1xFW1-0IR_CT"
      },
      "source": [
        "**Q 22:- What is the significance of the Flask-RESTful extension?**"
      ]
    },
    {
      "cell_type": "markdown",
      "metadata": {
        "id": "jIjXTxeDSEn6"
      },
      "source": [
        "***Answer:-*** Flask-RESTful is an extension that greatly streamlines the process of building RESTful APIs with Flask. Its significance lies in providing a structured, efficient way to define API endpoints, handle request parsing, and manage responses. Instead of manually writing route functions and handling JSON serialization, Flask-RESTful offers a class-based approach where you define resources with methods like `get()`, `post()`, etc.\n",
        "\n",
        "This promotes cleaner, more organized code, encourages adherence to REST principles, and simplifies common tasks such as input validation and error handling. Overall, it helps developers build scalable, maintainable APIs more quickly and with less boilerplate code."
      ]
    },
    {
      "cell_type": "markdown",
      "metadata": {
        "id": "lBBRePTfSN6y"
      },
      "source": [
        "**Q 23:- What is the role of Flask’s session object?**"
      ]
    },
    {
      "cell_type": "markdown",
      "metadata": {
        "id": "usQayVTVSSf6"
      },
      "source": [
        "***Answer:- *** Flask’s `session` object is used to store data that persists across multiple requests from the same user. Essentially, it allows you to keep track of user-specific information—like login status, preferences, or other state—without requiring the user to re-authenticate or resend data each time.\n",
        "\n",
        "Since Flask’s sessions are stored client-side in securely signed cookies, they are lightweight and easy to use. The data stored should be minimal and non-sensitive, or encrypted if sensitive.\n",
        "\n",
        "**In short:** The `session` enables Flask apps to remember information about individual users between requests, facilitating features like login sessions, shopping carts, or user settings, all in a secure and straightforward way."
      ]
    },
    {
      "cell_type": "markdown",
      "metadata": {
        "id": "4wpQFWlFSh8i"
      },
      "source": [
        "# **Practical Questions**"
      ]
    },
    {
      "cell_type": "markdown",
      "metadata": {
        "id": "ITS_4-0ZS0RC"
      },
      "source": [
        "**Q 1:-  How do you create a basic Flask application?**"
      ]
    },
    {
      "cell_type": "code",
      "execution_count": null,
      "metadata": {
        "id": "fBOSXCLpaqp-",
        "colab": {
          "base_uri": "https://localhost:8080/"
        },
        "outputId": "ac990b35-5f4b-43bb-f670-013f98d57c42"
      },
      "outputs": [
        {
          "output_type": "stream",
          "name": "stdout",
          "text": [
            " * Serving Flask app '__main__'\n",
            " * Debug mode: on\n"
          ]
        },
        {
          "output_type": "stream",
          "name": "stderr",
          "text": [
            "INFO:werkzeug:\u001b[31m\u001b[1mWARNING: This is a development server. Do not use it in a production deployment. Use a production WSGI server instead.\u001b[0m\n",
            " * Running on http://127.0.0.1:5000\n",
            "INFO:werkzeug:\u001b[33mPress CTRL+C to quit\u001b[0m\n",
            "INFO:werkzeug: * Restarting with stat\n"
          ]
        }
      ],
      "source": [
        "from flask import Flask\n",
        "\n",
        "# Create a Flask application instance\n",
        "app = Flask(__name__)\n",
        "\n",
        "# Define a route for the home page\n",
        "@app.route('/')\n",
        "def home():\n",
        "    return \"Hello, Flask!\"\n",
        "\n",
        "# Run the application\n",
        "if __name__ == '__main__':\n",
        "    app.run(debug=True)\n"
      ]
    },
    {
      "cell_type": "markdown",
      "metadata": {
        "id": "VL5UtdXCasCn"
      },
      "source": [
        "**Q 2:-  How do you serve static files like images or CSS in Flask?**"
      ]
    },
    {
      "cell_type": "code",
      "execution_count": null,
      "metadata": {
        "id": "NGfJuJJLfBiu",
        "colab": {
          "base_uri": "https://localhost:8080/"
        },
        "outputId": "7d60055e-fec8-41df-e82a-5ac718ebd5d3"
      },
      "outputs": [
        {
          "output_type": "stream",
          "name": "stdout",
          "text": [
            " * Serving Flask app '__main__'\n",
            " * Debug mode: on\n"
          ]
        },
        {
          "output_type": "stream",
          "name": "stderr",
          "text": [
            "INFO:werkzeug:\u001b[31m\u001b[1mWARNING: This is a development server. Do not use it in a production deployment. Use a production WSGI server instead.\u001b[0m\n",
            " * Running on http://127.0.0.1:5000\n",
            "INFO:werkzeug:\u001b[33mPress CTRL+C to quit\u001b[0m\n",
            "INFO:werkzeug: * Restarting with stat\n"
          ]
        }
      ],
      "source": [
        "from flask import Flask, render_template\n",
        "\n",
        "app = Flask(__name__)\n",
        "\n",
        "# Flask by default looks for a 'static' folder\n",
        "# in the same directory as this app.py file.\n",
        "# You just need to place your static files there:\n",
        "#\n",
        "# your_project/\n",
        "# ├── app.py\n",
        "# └── static/\n",
        "#     ├── css/\n",
        "#     │   └── style.css\n",
        "#     └── images/\n",
        "#         └── logo.png\n",
        "#\n",
        "# And then link to them in your templates using url_for.\n",
        "\n",
        "@app.route('/')\n",
        "def home():\n",
        "    # Assuming you have an 'index.html' in a 'templates' folder\n",
        "    return render_template('index.html')\n",
        "\n",
        "if __name__ == '__main__':\n",
        "    app.run(debug=True)"
      ]
    },
    {
      "cell_type": "markdown",
      "metadata": {
        "id": "5LFPPwjufHxH"
      },
      "source": [
        "**Q 3:-  How do you define different routes with different HTTP methods in Flask?**"
      ]
    },
    {
      "cell_type": "code",
      "execution_count": null,
      "metadata": {
        "id": "oAoohRzufT6-",
        "colab": {
          "base_uri": "https://localhost:8080/"
        },
        "outputId": "377334b4-1594-4689-aef6-41f469f0b4b5"
      },
      "outputs": [
        {
          "output_type": "stream",
          "name": "stdout",
          "text": [
            " * Serving Flask app '__main__'\n",
            " * Debug mode: on\n"
          ]
        },
        {
          "output_type": "stream",
          "name": "stderr",
          "text": [
            "INFO:werkzeug:\u001b[31m\u001b[1mWARNING: This is a development server. Do not use it in a production deployment. Use a production WSGI server instead.\u001b[0m\n",
            " * Running on http://127.0.0.1:5000\n",
            "INFO:werkzeug:\u001b[33mPress CTRL+C to quit\u001b[0m\n",
            "INFO:werkzeug: * Restarting with stat\n"
          ]
        }
      ],
      "source": [
        "from flask import Flask, request, jsonify\n",
        "\n",
        "app = Flask(__name__)\n",
        "\n",
        "# Define a route for GET requests\n",
        "@app.route('/example', methods=['GET'])\n",
        "def get_example():\n",
        "    return jsonify({\"message\": \"This is a GET request\"})\n",
        "\n",
        "# Define a route for POST requests\n",
        "@app.route('/example', methods=['POST'])\n",
        "def post_example():\n",
        "    data = request.json\n",
        "    return jsonify({\"message\": \"This is a POST request\", \"data\": data})\n",
        "\n",
        "# Define a route for PUT requests\n",
        "@app.route('/example', methods=['PUT'])\n",
        "def put_example():\n",
        "    data = request.json\n",
        "    return jsonify({\"message\": \"This is a PUT request\", \"data\": data})\n",
        "\n",
        "# Define a route for DELETE requests\n",
        "@app.route('/example', methods=['DELETE'])\n",
        "def delete_example():\n",
        "    return jsonify({\"message\": \"This is a DELETE request\"})\n",
        "\n",
        "if __name__ == '__main__':\n",
        "    app.run(debug=True)\n"
      ]
    },
    {
      "cell_type": "markdown",
      "metadata": {
        "id": "wJ3n5G1JfJM3"
      },
      "source": [
        "**Q 4:-  How do you render HTML templates in Flask?**"
      ]
    },
    {
      "cell_type": "code",
      "execution_count": null,
      "metadata": {
        "colab": {
          "base_uri": "https://localhost:8080/"
        },
        "id": "SJTW4kx2jTh4",
        "outputId": "e7c0657d-c049-471f-8d1d-c933155982be"
      },
      "outputs": [
        {
          "output_type": "stream",
          "name": "stdout",
          "text": [
            " * Serving Flask app '__main__'\n",
            " * Debug mode: on\n"
          ]
        },
        {
          "output_type": "stream",
          "name": "stderr",
          "text": [
            "INFO:werkzeug:\u001b[31m\u001b[1mWARNING: This is a development server. Do not use it in a production deployment. Use a production WSGI server instead.\u001b[0m\n",
            " * Running on http://127.0.0.1:5000\n",
            "INFO:werkzeug:\u001b[33mPress CTRL+C to quit\u001b[0m\n",
            "INFO:werkzeug: * Restarting with stat\n"
          ]
        }
      ],
      "source": [
        "from flask import Flask, render_template\n",
        "\n",
        "app = Flask(__name__)\n",
        "\n",
        "@app.route('/')\n",
        "def home():\n",
        "    return render_template('index.html')\n",
        "\n",
        "if __name__ == '__main__':\n",
        "    app.run(debug=True)"
      ]
    },
    {
      "cell_type": "markdown",
      "metadata": {
        "id": "J1rUOBxPDCnB"
      },
      "source": [
        "**Q 5:- Generate a bar plot using Plotly**"
      ]
    },
    {
      "cell_type": "code",
      "execution_count": null,
      "metadata": {
        "id": "4ZLDAtOPDwOQ",
        "colab": {
          "base_uri": "https://localhost:8080/",
          "height": 542
        },
        "outputId": "cf20d443-dfae-4c2a-8a1a-435b1fe0769c"
      },
      "outputs": [
        {
          "output_type": "display_data",
          "data": {
            "text/html": [
              "<html>\n",
              "<head><meta charset=\"utf-8\" /></head>\n",
              "<body>\n",
              "    <div>            <script src=\"https://cdnjs.cloudflare.com/ajax/libs/mathjax/2.7.5/MathJax.js?config=TeX-AMS-MML_SVG\"></script><script type=\"text/javascript\">if (window.MathJax && window.MathJax.Hub && window.MathJax.Hub.Config) {window.MathJax.Hub.Config({SVG: {font: \"STIX-Web\"}});}</script>                <script type=\"text/javascript\">window.PlotlyConfig = {MathJaxConfig: 'local'};</script>\n",
              "        <script charset=\"utf-8\" src=\"https://cdn.plot.ly/plotly-2.35.2.min.js\"></script>                <div id=\"323ef808-24b8-495a-b1df-5dcdae5554e2\" class=\"plotly-graph-div\" style=\"height:525px; width:100%;\"></div>            <script type=\"text/javascript\">                                    window.PLOTLYENV=window.PLOTLYENV || {};                                    if (document.getElementById(\"323ef808-24b8-495a-b1df-5dcdae5554e2\")) {                    Plotly.newPlot(                        \"323ef808-24b8-495a-b1df-5dcdae5554e2\",                        [{\"x\":[\"Category A\",\"Category B\",\"Category C\",\"Category D\"],\"y\":[10,15,7,12],\"type\":\"bar\"}],                        {\"template\":{\"data\":{\"histogram2dcontour\":[{\"type\":\"histogram2dcontour\",\"colorbar\":{\"outlinewidth\":0,\"ticks\":\"\"},\"colorscale\":[[0.0,\"#0d0887\"],[0.1111111111111111,\"#46039f\"],[0.2222222222222222,\"#7201a8\"],[0.3333333333333333,\"#9c179e\"],[0.4444444444444444,\"#bd3786\"],[0.5555555555555556,\"#d8576b\"],[0.6666666666666666,\"#ed7953\"],[0.7777777777777778,\"#fb9f3a\"],[0.8888888888888888,\"#fdca26\"],[1.0,\"#f0f921\"]]}],\"choropleth\":[{\"type\":\"choropleth\",\"colorbar\":{\"outlinewidth\":0,\"ticks\":\"\"}}],\"histogram2d\":[{\"type\":\"histogram2d\",\"colorbar\":{\"outlinewidth\":0,\"ticks\":\"\"},\"colorscale\":[[0.0,\"#0d0887\"],[0.1111111111111111,\"#46039f\"],[0.2222222222222222,\"#7201a8\"],[0.3333333333333333,\"#9c179e\"],[0.4444444444444444,\"#bd3786\"],[0.5555555555555556,\"#d8576b\"],[0.6666666666666666,\"#ed7953\"],[0.7777777777777778,\"#fb9f3a\"],[0.8888888888888888,\"#fdca26\"],[1.0,\"#f0f921\"]]}],\"heatmap\":[{\"type\":\"heatmap\",\"colorbar\":{\"outlinewidth\":0,\"ticks\":\"\"},\"colorscale\":[[0.0,\"#0d0887\"],[0.1111111111111111,\"#46039f\"],[0.2222222222222222,\"#7201a8\"],[0.3333333333333333,\"#9c179e\"],[0.4444444444444444,\"#bd3786\"],[0.5555555555555556,\"#d8576b\"],[0.6666666666666666,\"#ed7953\"],[0.7777777777777778,\"#fb9f3a\"],[0.8888888888888888,\"#fdca26\"],[1.0,\"#f0f921\"]]}],\"heatmapgl\":[{\"type\":\"heatmapgl\",\"colorbar\":{\"outlinewidth\":0,\"ticks\":\"\"},\"colorscale\":[[0.0,\"#0d0887\"],[0.1111111111111111,\"#46039f\"],[0.2222222222222222,\"#7201a8\"],[0.3333333333333333,\"#9c179e\"],[0.4444444444444444,\"#bd3786\"],[0.5555555555555556,\"#d8576b\"],[0.6666666666666666,\"#ed7953\"],[0.7777777777777778,\"#fb9f3a\"],[0.8888888888888888,\"#fdca26\"],[1.0,\"#f0f921\"]]}],\"contourcarpet\":[{\"type\":\"contourcarpet\",\"colorbar\":{\"outlinewidth\":0,\"ticks\":\"\"}}],\"contour\":[{\"type\":\"contour\",\"colorbar\":{\"outlinewidth\":0,\"ticks\":\"\"},\"colorscale\":[[0.0,\"#0d0887\"],[0.1111111111111111,\"#46039f\"],[0.2222222222222222,\"#7201a8\"],[0.3333333333333333,\"#9c179e\"],[0.4444444444444444,\"#bd3786\"],[0.5555555555555556,\"#d8576b\"],[0.6666666666666666,\"#ed7953\"],[0.7777777777777778,\"#fb9f3a\"],[0.8888888888888888,\"#fdca26\"],[1.0,\"#f0f921\"]]}],\"surface\":[{\"type\":\"surface\",\"colorbar\":{\"outlinewidth\":0,\"ticks\":\"\"},\"colorscale\":[[0.0,\"#0d0887\"],[0.1111111111111111,\"#46039f\"],[0.2222222222222222,\"#7201a8\"],[0.3333333333333333,\"#9c179e\"],[0.4444444444444444,\"#bd3786\"],[0.5555555555555556,\"#d8576b\"],[0.6666666666666666,\"#ed7953\"],[0.7777777777777778,\"#fb9f3a\"],[0.8888888888888888,\"#fdca26\"],[1.0,\"#f0f921\"]]}],\"mesh3d\":[{\"type\":\"mesh3d\",\"colorbar\":{\"outlinewidth\":0,\"ticks\":\"\"}}],\"scatter\":[{\"fillpattern\":{\"fillmode\":\"overlay\",\"size\":10,\"solidity\":0.2},\"type\":\"scatter\"}],\"parcoords\":[{\"type\":\"parcoords\",\"line\":{\"colorbar\":{\"outlinewidth\":0,\"ticks\":\"\"}}}],\"scatterpolargl\":[{\"type\":\"scatterpolargl\",\"marker\":{\"colorbar\":{\"outlinewidth\":0,\"ticks\":\"\"}}}],\"bar\":[{\"error_x\":{\"color\":\"#2a3f5f\"},\"error_y\":{\"color\":\"#2a3f5f\"},\"marker\":{\"line\":{\"color\":\"#E5ECF6\",\"width\":0.5},\"pattern\":{\"fillmode\":\"overlay\",\"size\":10,\"solidity\":0.2}},\"type\":\"bar\"}],\"scattergeo\":[{\"type\":\"scattergeo\",\"marker\":{\"colorbar\":{\"outlinewidth\":0,\"ticks\":\"\"}}}],\"scatterpolar\":[{\"type\":\"scatterpolar\",\"marker\":{\"colorbar\":{\"outlinewidth\":0,\"ticks\":\"\"}}}],\"histogram\":[{\"marker\":{\"pattern\":{\"fillmode\":\"overlay\",\"size\":10,\"solidity\":0.2}},\"type\":\"histogram\"}],\"scattergl\":[{\"type\":\"scattergl\",\"marker\":{\"colorbar\":{\"outlinewidth\":0,\"ticks\":\"\"}}}],\"scatter3d\":[{\"type\":\"scatter3d\",\"line\":{\"colorbar\":{\"outlinewidth\":0,\"ticks\":\"\"}},\"marker\":{\"colorbar\":{\"outlinewidth\":0,\"ticks\":\"\"}}}],\"scattermapbox\":[{\"type\":\"scattermapbox\",\"marker\":{\"colorbar\":{\"outlinewidth\":0,\"ticks\":\"\"}}}],\"scatterternary\":[{\"type\":\"scatterternary\",\"marker\":{\"colorbar\":{\"outlinewidth\":0,\"ticks\":\"\"}}}],\"scattercarpet\":[{\"type\":\"scattercarpet\",\"marker\":{\"colorbar\":{\"outlinewidth\":0,\"ticks\":\"\"}}}],\"carpet\":[{\"aaxis\":{\"endlinecolor\":\"#2a3f5f\",\"gridcolor\":\"white\",\"linecolor\":\"white\",\"minorgridcolor\":\"white\",\"startlinecolor\":\"#2a3f5f\"},\"baxis\":{\"endlinecolor\":\"#2a3f5f\",\"gridcolor\":\"white\",\"linecolor\":\"white\",\"minorgridcolor\":\"white\",\"startlinecolor\":\"#2a3f5f\"},\"type\":\"carpet\"}],\"table\":[{\"cells\":{\"fill\":{\"color\":\"#EBF0F8\"},\"line\":{\"color\":\"white\"}},\"header\":{\"fill\":{\"color\":\"#C8D4E3\"},\"line\":{\"color\":\"white\"}},\"type\":\"table\"}],\"barpolar\":[{\"marker\":{\"line\":{\"color\":\"#E5ECF6\",\"width\":0.5},\"pattern\":{\"fillmode\":\"overlay\",\"size\":10,\"solidity\":0.2}},\"type\":\"barpolar\"}],\"pie\":[{\"automargin\":true,\"type\":\"pie\"}]},\"layout\":{\"autotypenumbers\":\"strict\",\"colorway\":[\"#636efa\",\"#EF553B\",\"#00cc96\",\"#ab63fa\",\"#FFA15A\",\"#19d3f3\",\"#FF6692\",\"#B6E880\",\"#FF97FF\",\"#FECB52\"],\"font\":{\"color\":\"#2a3f5f\"},\"hovermode\":\"closest\",\"hoverlabel\":{\"align\":\"left\"},\"paper_bgcolor\":\"white\",\"plot_bgcolor\":\"#E5ECF6\",\"polar\":{\"bgcolor\":\"#E5ECF6\",\"angularaxis\":{\"gridcolor\":\"white\",\"linecolor\":\"white\",\"ticks\":\"\"},\"radialaxis\":{\"gridcolor\":\"white\",\"linecolor\":\"white\",\"ticks\":\"\"}},\"ternary\":{\"bgcolor\":\"#E5ECF6\",\"aaxis\":{\"gridcolor\":\"white\",\"linecolor\":\"white\",\"ticks\":\"\"},\"baxis\":{\"gridcolor\":\"white\",\"linecolor\":\"white\",\"ticks\":\"\"},\"caxis\":{\"gridcolor\":\"white\",\"linecolor\":\"white\",\"ticks\":\"\"}},\"coloraxis\":{\"colorbar\":{\"outlinewidth\":0,\"ticks\":\"\"}},\"colorscale\":{\"sequential\":[[0.0,\"#0d0887\"],[0.1111111111111111,\"#46039f\"],[0.2222222222222222,\"#7201a8\"],[0.3333333333333333,\"#9c179e\"],[0.4444444444444444,\"#bd3786\"],[0.5555555555555556,\"#d8576b\"],[0.6666666666666666,\"#ed7953\"],[0.7777777777777778,\"#fb9f3a\"],[0.8888888888888888,\"#fdca26\"],[1.0,\"#f0f921\"]],\"sequentialminus\":[[0.0,\"#0d0887\"],[0.1111111111111111,\"#46039f\"],[0.2222222222222222,\"#7201a8\"],[0.3333333333333333,\"#9c179e\"],[0.4444444444444444,\"#bd3786\"],[0.5555555555555556,\"#d8576b\"],[0.6666666666666666,\"#ed7953\"],[0.7777777777777778,\"#fb9f3a\"],[0.8888888888888888,\"#fdca26\"],[1.0,\"#f0f921\"]],\"diverging\":[[0,\"#8e0152\"],[0.1,\"#c51b7d\"],[0.2,\"#de77ae\"],[0.3,\"#f1b6da\"],[0.4,\"#fde0ef\"],[0.5,\"#f7f7f7\"],[0.6,\"#e6f5d0\"],[0.7,\"#b8e186\"],[0.8,\"#7fbc41\"],[0.9,\"#4d9221\"],[1,\"#276419\"]]},\"xaxis\":{\"gridcolor\":\"white\",\"linecolor\":\"white\",\"ticks\":\"\",\"title\":{\"standoff\":15},\"zerolinecolor\":\"white\",\"automargin\":true,\"zerolinewidth\":2},\"yaxis\":{\"gridcolor\":\"white\",\"linecolor\":\"white\",\"ticks\":\"\",\"title\":{\"standoff\":15},\"zerolinecolor\":\"white\",\"automargin\":true,\"zerolinewidth\":2},\"scene\":{\"xaxis\":{\"backgroundcolor\":\"#E5ECF6\",\"gridcolor\":\"white\",\"linecolor\":\"white\",\"showbackground\":true,\"ticks\":\"\",\"zerolinecolor\":\"white\",\"gridwidth\":2},\"yaxis\":{\"backgroundcolor\":\"#E5ECF6\",\"gridcolor\":\"white\",\"linecolor\":\"white\",\"showbackground\":true,\"ticks\":\"\",\"zerolinecolor\":\"white\",\"gridwidth\":2},\"zaxis\":{\"backgroundcolor\":\"#E5ECF6\",\"gridcolor\":\"white\",\"linecolor\":\"white\",\"showbackground\":true,\"ticks\":\"\",\"zerolinecolor\":\"white\",\"gridwidth\":2}},\"shapedefaults\":{\"line\":{\"color\":\"#2a3f5f\"}},\"annotationdefaults\":{\"arrowcolor\":\"#2a3f5f\",\"arrowhead\":0,\"arrowwidth\":1},\"geo\":{\"bgcolor\":\"white\",\"landcolor\":\"#E5ECF6\",\"subunitcolor\":\"white\",\"showland\":true,\"showlakes\":true,\"lakecolor\":\"white\"},\"title\":{\"x\":0.05},\"mapbox\":{\"style\":\"light\"}}},\"title\":{\"text\":\"Sample Bar Plot\"},\"xaxis\":{\"title\":{\"text\":\"Categories\"}},\"yaxis\":{\"title\":{\"text\":\"Values\"}}},                        {\"responsive\": true}                    ).then(function(){\n",
              "                            \n",
              "var gd = document.getElementById('323ef808-24b8-495a-b1df-5dcdae5554e2');\n",
              "var x = new MutationObserver(function (mutations, observer) {{\n",
              "        var display = window.getComputedStyle(gd).display;\n",
              "        if (!display || display === 'none') {{\n",
              "            console.log([gd, 'removed!']);\n",
              "            Plotly.purge(gd);\n",
              "            observer.disconnect();\n",
              "        }}\n",
              "}});\n",
              "\n",
              "// Listen for the removal of the full notebook cells\n",
              "var notebookContainer = gd.closest('#notebook-container');\n",
              "if (notebookContainer) {{\n",
              "    x.observe(notebookContainer, {childList: true});\n",
              "}}\n",
              "\n",
              "// Listen for the clearing of the current output cell\n",
              "var outputEl = gd.closest('.output');\n",
              "if (outputEl) {{\n",
              "    x.observe(outputEl, {childList: true});\n",
              "}}\n",
              "\n",
              "                        })                };                            </script>        </div>\n",
              "</body>\n",
              "</html>"
            ]
          },
          "metadata": {}
        }
      ],
      "source": [
        "import plotly.graph_objects as go\n",
        "\n",
        "# Sample data\n",
        "categories = ['Category A', 'Category B', 'Category C', 'Category D']\n",
        "values = [10, 15, 7, 12]\n",
        "\n",
        "# Create a bar plot\n",
        "fig = go.Figure(data=[go.Bar(x=categories, y=values)])\n",
        "\n",
        "# Add title and labels\n",
        "fig.update_layout(title='Sample Bar Plot',\n",
        "                  xaxis_title='Categories',\n",
        "                  yaxis_title='Values')\n",
        "\n",
        "# Show the plot\n",
        "fig.show()\n"
      ]
    },
    {
      "cell_type": "markdown",
      "metadata": {
        "id": "iuhqnJhCEwfE"
      },
      "source": [
        "**Q 6:- Create a DataFrame and add a new column based on an existing column**"
      ]
    },
    {
      "cell_type": "code",
      "execution_count": null,
      "metadata": {
        "id": "5iMG5grnE7sz",
        "colab": {
          "base_uri": "https://localhost:8080/"
        },
        "outputId": "fb6fc802-1f59-48a0-d680-83f605119d47"
      },
      "outputs": [
        {
          "output_type": "stream",
          "name": "stdout",
          "text": [
            "   A  B  C\n",
            "0  1  5  2\n",
            "1  2  6  4\n",
            "2  3  7  6\n",
            "3  4  8  8\n"
          ]
        }
      ],
      "source": [
        "import pandas as pd\n",
        "\n",
        "# Step 1: Create a DataFrame\n",
        "data = {\n",
        "    'A': [1, 2, 3, 4],\n",
        "    'B': [5, 6, 7, 8]\n",
        "}\n",
        "df = pd.DataFrame(data)\n",
        "\n",
        "# Step 2: Add a new column 'C' which is double the values of column 'A'\n",
        "df['C'] = df['A'] * 2\n",
        "\n",
        "# Display the DataFrame\n",
        "print(df)"
      ]
    },
    {
      "cell_type": "markdown",
      "metadata": {
        "id": "BDhB92sRFEQg"
      },
      "source": [
        "**Q 7:- Write a program to perform element-wise multiplication of two NumPy arrays**"
      ]
    },
    {
      "cell_type": "code",
      "execution_count": null,
      "metadata": {
        "id": "51AELwChFQIb",
        "colab": {
          "base_uri": "https://localhost:8080/"
        },
        "outputId": "e5b7ac37-c69e-4ef8-fd14-97a7c8c7b3a8"
      },
      "outputs": [
        {
          "output_type": "stream",
          "name": "stdout",
          "text": [
            "Element-wise multiplication result: [ 5 12 21 32]\n"
          ]
        }
      ],
      "source": [
        "import numpy as np\n",
        "\n",
        "# Create two NumPy arrays\n",
        "array1 = np.array([1, 2, 3, 4])\n",
        "array2 = np.array([5, 6, 7, 8])\n",
        "\n",
        "# Perform element-wise multiplication\n",
        "result = array1 * array2\n",
        "\n",
        "# Print the result\n",
        "print(\"Element-wise multiplication result:\", result)\n"
      ]
    },
    {
      "cell_type": "markdown",
      "metadata": {
        "id": "XGM92fszFYLv"
      },
      "source": [
        "**Q 8:-  Create a line plot with multiple lines using Matplotlib**"
      ]
    },
    {
      "cell_type": "code",
      "execution_count": null,
      "metadata": {
        "id": "zuGRLotAFeYC",
        "colab": {
          "base_uri": "https://localhost:8080/",
          "height": 472
        },
        "outputId": "bb858753-009e-406c-9c7e-3251fd95a2e4"
      },
      "outputs": [
        {
          "output_type": "display_data",
          "data": {
            "text/plain": [
              "<Figure size 640x480 with 1 Axes>"
            ],
            "image/png": "[encoded data removed]"
          },
          "metadata": {}
        }
      ],
      "source": [
        "import matplotlib.pyplot as plt\n",
        "\n",
        "# Sample data\n",
        "x = [1, 2, 3, 4, 5]\n",
        "\n",
        "# Multiple lines data\n",
        "y1 = [2, 3, 5, 7, 11]\n",
        "y2 = [1, 4, 6, 8, 10]\n",
        "y3 = [3, 5, 2, 6, 9]\n",
        "\n",
        "# Plotting multiple lines\n",
        "plt.plot(x, y1, label='Line 1', marker='o')\n",
        "plt.plot(x, y2, label='Line 2', marker='s')\n",
        "plt.plot(x, y3, label='Line 3', marker='^')\n",
        "\n",
        "# Adding labels and title\n",
        "plt.xlabel('X-axis')\n",
        "plt.ylabel('Y-axis')\n",
        "plt.title('Multiple Lines Line Plot')\n",
        "plt.legend()\n",
        "\n",
        "# Show the plot\n",
        "plt.show()"
      ]
    },
    {
      "cell_type": "markdown",
      "metadata": {
        "id": "xptYFeo5F1UF"
      },
      "source": [
        "**Q 9:- Generate a Pandas DataFrame and filter rows where a column value is greater than a threshold**"
      ]
    },
    {
      "cell_type": "code",
      "execution_count": null,
      "metadata": {
        "id": "nYiHMg2aF8T5",
        "colab": {
          "base_uri": "https://localhost:8080/"
        },
        "outputId": "040f2c77-e19e-493a-bb44-497e25fa984d"
      },
      "outputs": [
        {
          "output_type": "stream",
          "name": "stdout",
          "text": [
            "    A   B\n",
            "2  30  25\n",
            "3  40  35\n",
            "4  50  45\n"
          ]
        }
      ],
      "source": [
        "import pandas as pd\n",
        "\n",
        "# Create a sample DataFrame\n",
        "data = {\n",
        "    'A': [10, 20, 30, 40, 50],\n",
        "    'B': [5, 15, 25, 35, 45]\n",
        "}\n",
        "df = pd.DataFrame(data)\n",
        "\n",
        "# Define the threshold\n",
        "threshold = 25\n",
        "\n",
        "# Filter rows where column 'A' is greater than the threshold\n",
        "filtered_df = df[df['A'] > threshold]\n",
        "\n",
        "print(filtered_df)"
      ]
    },
    {
      "cell_type": "markdown",
      "metadata": {
        "id": "BUbAQ-g9GFh5"
      },
      "source": [
        "**Q 10:-  Create a histogram using Seaborn to visualize a distribution**"
      ]
    },
    {
      "cell_type": "code",
      "execution_count": null,
      "metadata": {
        "id": "3Leguc9xGKs5",
        "colab": {
          "base_uri": "https://localhost:8080/",
          "height": 472
        },
        "outputId": "e692b8e3-e755-4b14-d584-2c3877ca3e13"
      },
      "outputs": [
        {
          "output_type": "display_data",
          "data": {
            "text/plain": [
              "<Figure size 640x480 with 1 Axes>"
            ],
            "image/png": "[encoded data removed]"
          },
          "metadata": {}
        }
      ],
      "source": [
        "import seaborn as sns\n",
        "import matplotlib.pyplot as plt\n",
        "import numpy as np\n",
        "\n",
        "# Generate some sample data, for example, a normal distribution\n",
        "data = np.random.randn(1000)\n",
        "\n",
        "# Create a histogram with Seaborn\n",
        "sns.histplot(data, bins=30, kde=True)\n",
        "\n",
        "# Add labels and title\n",
        "plt.xlabel('Value')\n",
        "plt.ylabel('Frequency')\n",
        "plt.title('Histogram of Sample Data with KDE')\n",
        "\n",
        "# Show the plot\n",
        "plt.show()"
      ]
    },
    {
      "cell_type": "markdown",
      "metadata": {
        "id": "16Ir3JbKGQvY"
      },
      "source": [
        "**Q 11:- Perform matrix multiplication using NumPy**"
      ]
    },
    {
      "cell_type": "code",
      "execution_count": null,
      "metadata": {
        "id": "77nf2aEEGWef",
        "colab": {
          "base_uri": "https://localhost:8080/"
        },
        "outputId": "530bf440-c058-4fbb-ef73-3d5fa520a7cf"
      },
      "outputs": [
        {
          "output_type": "stream",
          "name": "stdout",
          "text": [
            "Result of matrix multiplication:\n",
            " [[19 22]\n",
            " [43 50]]\n"
          ]
        }
      ],
      "source": [
        "import numpy as np\n",
        "\n",
        "# Define two matrices\n",
        "A = np.array([[1, 2], [3, 4]])\n",
        "B = np.array([[5, 6], [7, 8]])\n",
        "\n",
        "# Perform matrix multiplication\n",
        "result = np.dot(A, B)\n",
        "\n",
        "print(\"Result of matrix multiplication:\\n\", result)"
      ]
    },
    {
      "cell_type": "markdown",
      "metadata": {
        "id": "OIa7vOECGbnM"
      },
      "source": [
        "**Q 12:- Use Pandas to load a CSV file and display its first 5 rows**"
      ]
    },
    {
      "cell_type": "code",
      "execution_count": null,
      "metadata": {
        "id": "lnIxDPNsGh7K",
        "colab": {
          "base_uri": "https://localhost:8080/"
        },
        "outputId": "b8d7e9bc-4185-44a1-ae84-db1afa17dfa7"
      },
      "outputs": [
        {
          "output_type": "stream",
          "name": "stdout",
          "text": [
            "Error: The file 'your_file.csv' was not found. Please check the file path.\n"
          ]
        }
      ],
      "source": [
        "import pandas as pd\n",
        "\n",
        "# Replace 'your_file.csv' with the actual path to your CSV file\n",
        "try:\n",
        "    df = pd.read_csv('your_file.csv')\n",
        "\n",
        "    # Display the first 5 rows of the DataFrame\n",
        "    print(df.head())\n",
        "\n",
        "except FileNotFoundError:\n",
        "    print(\"Error: The file 'your_file.csv' was not found. Please check the file path.\")\n",
        "except Exception as e:\n",
        "    print(f\"An error occurred: {e}\")"
      ]
    },
    {
      "cell_type": "markdown",
      "metadata": {
        "id": "4m-6MI0SII8M"
      },
      "source": [
        "**Q 13:- Create a 3D scatter plot using Plotly.**"
      ]
    },
    {
      "cell_type": "code",
      "execution_count": null,
      "metadata": {
        "id": "pzHfYgRRIPjh",
        "colab": {
          "base_uri": "https://localhost:8080/",
          "height": 542
        },
        "outputId": "0dad7bd7-3888-469e-a319-6b181ce9084b"
      },
      "outputs": [
        {
          "output_type": "display_data",
          "data": {
            "text/html": [
              "<html>\n",
              "<head><meta charset=\"utf-8\" /></head>\n",
              "<body>\n",
              "    <div>            <script src=\"https://cdnjs.cloudflare.com/ajax/libs/mathjax/2.7.5/MathJax.js?config=TeX-AMS-MML_SVG\"></script><script type=\"text/javascript\">if (window.MathJax && window.MathJax.Hub && window.MathJax.Hub.Config) {window.MathJax.Hub.Config({SVG: {font: \"STIX-Web\"}});}</script>                <script type=\"text/javascript\">window.PlotlyConfig = {MathJaxConfig: 'local'};</script>\n",
              "        <script charset=\"utf-8\" src=\"https://cdn.plot.ly/plotly-2.35.2.min.js\"></script>                <div id=\"f7b8fb6d-61f4-4121-a608-b14d32cd29ae\" class=\"plotly-graph-div\" style=\"height:525px; width:100%;\"></div>            <script type=\"text/javascript\">                                    window.PLOTLYENV=window.PLOTLYENV || {};                                    if (document.getElementById(\"f7b8fb6d-61f4-4121-a608-b14d32cd29ae\")) {                    Plotly.newPlot(                        \"f7b8fb6d-61f4-4121-a608-b14d32cd29ae\",                        [{\"hovertemplate\":\"label=A\\u003cbr\\u003ex=%{x}\\u003cbr\\u003ey=%{y}\\u003cbr\\u003ez=%{z}\\u003cextra\\u003e\\u003c\\u002fextra\\u003e\",\"legendgroup\":\"A\",\"marker\":{\"color\":\"#636efa\",\"symbol\":\"circle\"},\"mode\":\"markers\",\"name\":\"A\",\"scene\":\"scene\",\"showlegend\":true,\"x\":[1],\"y\":[10],\"z\":[5],\"type\":\"scatter3d\"},{\"hovertemplate\":\"label=B\\u003cbr\\u003ex=%{x}\\u003cbr\\u003ey=%{y}\\u003cbr\\u003ez=%{z}\\u003cextra\\u003e\\u003c\\u002fextra\\u003e\",\"legendgroup\":\"B\",\"marker\":{\"color\":\"#EF553B\",\"symbol\":\"circle\"},\"mode\":\"markers\",\"name\":\"B\",\"scene\":\"scene\",\"showlegend\":true,\"x\":[2],\"y\":[11],\"z\":[4],\"type\":\"scatter3d\"},{\"hovertemplate\":\"label=C\\u003cbr\\u003ex=%{x}\\u003cbr\\u003ey=%{y}\\u003cbr\\u003ez=%{z}\\u003cextra\\u003e\\u003c\\u002fextra\\u003e\",\"legendgroup\":\"C\",\"marker\":{\"color\":\"#00cc96\",\"symbol\":\"circle\"},\"mode\":\"markers\",\"name\":\"C\",\"scene\":\"scene\",\"showlegend\":true,\"x\":[3],\"y\":[12],\"z\":[3],\"type\":\"scatter3d\"},{\"hovertemplate\":\"label=D\\u003cbr\\u003ex=%{x}\\u003cbr\\u003ey=%{y}\\u003cbr\\u003ez=%{z}\\u003cextra\\u003e\\u003c\\u002fextra\\u003e\",\"legendgroup\":\"D\",\"marker\":{\"color\":\"#ab63fa\",\"symbol\":\"circle\"},\"mode\":\"markers\",\"name\":\"D\",\"scene\":\"scene\",\"showlegend\":true,\"x\":[4],\"y\":[13],\"z\":[2],\"type\":\"scatter3d\"},{\"hovertemplate\":\"label=E\\u003cbr\\u003ex=%{x}\\u003cbr\\u003ey=%{y}\\u003cbr\\u003ez=%{z}\\u003cextra\\u003e\\u003c\\u002fextra\\u003e\",\"legendgroup\":\"E\",\"marker\":{\"color\":\"#FFA15A\",\"symbol\":\"circle\"},\"mode\":\"markers\",\"name\":\"E\",\"scene\":\"scene\",\"showlegend\":true,\"x\":[5],\"y\":[14],\"z\":[1],\"type\":\"scatter3d\"}],                        {\"template\":{\"data\":{\"histogram2dcontour\":[{\"type\":\"histogram2dcontour\",\"colorbar\":{\"outlinewidth\":0,\"ticks\":\"\"},\"colorscale\":[[0.0,\"#0d0887\"],[0.1111111111111111,\"#46039f\"],[0.2222222222222222,\"#7201a8\"],[0.3333333333333333,\"#9c179e\"],[0.4444444444444444,\"#bd3786\"],[0.5555555555555556,\"#d8576b\"],[0.6666666666666666,\"#ed7953\"],[0.7777777777777778,\"#fb9f3a\"],[0.8888888888888888,\"#fdca26\"],[1.0,\"#f0f921\"]]}],\"choropleth\":[{\"type\":\"choropleth\",\"colorbar\":{\"outlinewidth\":0,\"ticks\":\"\"}}],\"histogram2d\":[{\"type\":\"histogram2d\",\"colorbar\":{\"outlinewidth\":0,\"ticks\":\"\"},\"colorscale\":[[0.0,\"#0d0887\"],[0.1111111111111111,\"#46039f\"],[0.2222222222222222,\"#7201a8\"],[0.3333333333333333,\"#9c179e\"],[0.4444444444444444,\"#bd3786\"],[0.5555555555555556,\"#d8576b\"],[0.6666666666666666,\"#ed7953\"],[0.7777777777777778,\"#fb9f3a\"],[0.8888888888888888,\"#fdca26\"],[1.0,\"#f0f921\"]]}],\"heatmap\":[{\"type\":\"heatmap\",\"colorbar\":{\"outlinewidth\":0,\"ticks\":\"\"},\"colorscale\":[[0.0,\"#0d0887\"],[0.1111111111111111,\"#46039f\"],[0.2222222222222222,\"#7201a8\"],[0.3333333333333333,\"#9c179e\"],[0.4444444444444444,\"#bd3786\"],[0.5555555555555556,\"#d8576b\"],[0.6666666666666666,\"#ed7953\"],[0.7777777777777778,\"#fb9f3a\"],[0.8888888888888888,\"#fdca26\"],[1.0,\"#f0f921\"]]}],\"heatmapgl\":[{\"type\":\"heatmapgl\",\"colorbar\":{\"outlinewidth\":0,\"ticks\":\"\"},\"colorscale\":[[0.0,\"#0d0887\"],[0.1111111111111111,\"#46039f\"],[0.2222222222222222,\"#7201a8\"],[0.3333333333333333,\"#9c179e\"],[0.4444444444444444,\"#bd3786\"],[0.5555555555555556,\"#d8576b\"],[0.6666666666666666,\"#ed7953\"],[0.7777777777777778,\"#fb9f3a\"],[0.8888888888888888,\"#fdca26\"],[1.0,\"#f0f921\"]]}],\"contourcarpet\":[{\"type\":\"contourcarpet\",\"colorbar\":{\"outlinewidth\":0,\"ticks\":\"\"}}],\"contour\":[{\"type\":\"contour\",\"colorbar\":{\"outlinewidth\":0,\"ticks\":\"\"},\"colorscale\":[[0.0,\"#0d0887\"],[0.1111111111111111,\"#46039f\"],[0.2222222222222222,\"#7201a8\"],[0.3333333333333333,\"#9c179e\"],[0.4444444444444444,\"#bd3786\"],[0.5555555555555556,\"#d8576b\"],[0.6666666666666666,\"#ed7953\"],[0.7777777777777778,\"#fb9f3a\"],[0.8888888888888888,\"#fdca26\"],[1.0,\"#f0f921\"]]}],\"surface\":[{\"type\":\"surface\",\"colorbar\":{\"outlinewidth\":0,\"ticks\":\"\"},\"colorscale\":[[0.0,\"#0d0887\"],[0.1111111111111111,\"#46039f\"],[0.2222222222222222,\"#7201a8\"],[0.3333333333333333,\"#9c179e\"],[0.4444444444444444,\"#bd3786\"],[0.5555555555555556,\"#d8576b\"],[0.6666666666666666,\"#ed7953\"],[0.7777777777777778,\"#fb9f3a\"],[0.8888888888888888,\"#fdca26\"],[1.0,\"#f0f921\"]]}],\"mesh3d\":[{\"type\":\"mesh3d\",\"colorbar\":{\"outlinewidth\":0,\"ticks\":\"\"}}],\"scatter\":[{\"fillpattern\":{\"fillmode\":\"overlay\",\"size\":10,\"solidity\":0.2},\"type\":\"scatter\"}],\"parcoords\":[{\"type\":\"parcoords\",\"line\":{\"colorbar\":{\"outlinewidth\":0,\"ticks\":\"\"}}}],\"scatterpolargl\":[{\"type\":\"scatterpolargl\",\"marker\":{\"colorbar\":{\"outlinewidth\":0,\"ticks\":\"\"}}}],\"bar\":[{\"error_x\":{\"color\":\"#2a3f5f\"},\"error_y\":{\"color\":\"#2a3f5f\"},\"marker\":{\"line\":{\"color\":\"#E5ECF6\",\"width\":0.5},\"pattern\":{\"fillmode\":\"overlay\",\"size\":10,\"solidity\":0.2}},\"type\":\"bar\"}],\"scattergeo\":[{\"type\":\"scattergeo\",\"marker\":{\"colorbar\":{\"outlinewidth\":0,\"ticks\":\"\"}}}],\"scatterpolar\":[{\"type\":\"scatterpolar\",\"marker\":{\"colorbar\":{\"outlinewidth\":0,\"ticks\":\"\"}}}],\"histogram\":[{\"marker\":{\"pattern\":{\"fillmode\":\"overlay\",\"size\":10,\"solidity\":0.2}},\"type\":\"histogram\"}],\"scattergl\":[{\"type\":\"scattergl\",\"marker\":{\"colorbar\":{\"outlinewidth\":0,\"ticks\":\"\"}}}],\"scatter3d\":[{\"type\":\"scatter3d\",\"line\":{\"colorbar\":{\"outlinewidth\":0,\"ticks\":\"\"}},\"marker\":{\"colorbar\":{\"outlinewidth\":0,\"ticks\":\"\"}}}],\"scattermapbox\":[{\"type\":\"scattermapbox\",\"marker\":{\"colorbar\":{\"outlinewidth\":0,\"ticks\":\"\"}}}],\"scatterternary\":[{\"type\":\"scatterternary\",\"marker\":{\"colorbar\":{\"outlinewidth\":0,\"ticks\":\"\"}}}],\"scattercarpet\":[{\"type\":\"scattercarpet\",\"marker\":{\"colorbar\":{\"outlinewidth\":0,\"ticks\":\"\"}}}],\"carpet\":[{\"aaxis\":{\"endlinecolor\":\"#2a3f5f\",\"gridcolor\":\"white\",\"linecolor\":\"white\",\"minorgridcolor\":\"white\",\"startlinecolor\":\"#2a3f5f\"},\"baxis\":{\"endlinecolor\":\"#2a3f5f\",\"gridcolor\":\"white\",\"linecolor\":\"white\",\"minorgridcolor\":\"white\",\"startlinecolor\":\"#2a3f5f\"},\"type\":\"carpet\"}],\"table\":[{\"cells\":{\"fill\":{\"color\":\"#EBF0F8\"},\"line\":{\"color\":\"white\"}},\"header\":{\"fill\":{\"color\":\"#C8D4E3\"},\"line\":{\"color\":\"white\"}},\"type\":\"table\"}],\"barpolar\":[{\"marker\":{\"line\":{\"color\":\"#E5ECF6\",\"width\":0.5},\"pattern\":{\"fillmode\":\"overlay\",\"size\":10,\"solidity\":0.2}},\"type\":\"barpolar\"}],\"pie\":[{\"automargin\":true,\"type\":\"pie\"}]},\"layout\":{\"autotypenumbers\":\"strict\",\"colorway\":[\"#636efa\",\"#EF553B\",\"#00cc96\",\"#ab63fa\",\"#FFA15A\",\"#19d3f3\",\"#FF6692\",\"#B6E880\",\"#FF97FF\",\"#FECB52\"],\"font\":{\"color\":\"#2a3f5f\"},\"hovermode\":\"closest\",\"hoverlabel\":{\"align\":\"left\"},\"paper_bgcolor\":\"white\",\"plot_bgcolor\":\"#E5ECF6\",\"polar\":{\"bgcolor\":\"#E5ECF6\",\"angularaxis\":{\"gridcolor\":\"white\",\"linecolor\":\"white\",\"ticks\":\"\"},\"radialaxis\":{\"gridcolor\":\"white\",\"linecolor\":\"white\",\"ticks\":\"\"}},\"ternary\":{\"bgcolor\":\"#E5ECF6\",\"aaxis\":{\"gridcolor\":\"white\",\"linecolor\":\"white\",\"ticks\":\"\"},\"baxis\":{\"gridcolor\":\"white\",\"linecolor\":\"white\",\"ticks\":\"\"},\"caxis\":{\"gridcolor\":\"white\",\"linecolor\":\"white\",\"ticks\":\"\"}},\"coloraxis\":{\"colorbar\":{\"outlinewidth\":0,\"ticks\":\"\"}},\"colorscale\":{\"sequential\":[[0.0,\"#0d0887\"],[0.1111111111111111,\"#46039f\"],[0.2222222222222222,\"#7201a8\"],[0.3333333333333333,\"#9c179e\"],[0.4444444444444444,\"#bd3786\"],[0.5555555555555556,\"#d8576b\"],[0.6666666666666666,\"#ed7953\"],[0.7777777777777778,\"#fb9f3a\"],[0.8888888888888888,\"#fdca26\"],[1.0,\"#f0f921\"]],\"sequentialminus\":[[0.0,\"#0d0887\"],[0.1111111111111111,\"#46039f\"],[0.2222222222222222,\"#7201a8\"],[0.3333333333333333,\"#9c179e\"],[0.4444444444444444,\"#bd3786\"],[0.5555555555555556,\"#d8576b\"],[0.6666666666666666,\"#ed7953\"],[0.7777777777777778,\"#fb9f3a\"],[0.8888888888888888,\"#fdca26\"],[1.0,\"#f0f921\"]],\"diverging\":[[0,\"#8e0152\"],[0.1,\"#c51b7d\"],[0.2,\"#de77ae\"],[0.3,\"#f1b6da\"],[0.4,\"#fde0ef\"],[0.5,\"#f7f7f7\"],[0.6,\"#e6f5d0\"],[0.7,\"#b8e186\"],[0.8,\"#7fbc41\"],[0.9,\"#4d9221\"],[1,\"#276419\"]]},\"xaxis\":{\"gridcolor\":\"white\",\"linecolor\":\"white\",\"ticks\":\"\",\"title\":{\"standoff\":15},\"zerolinecolor\":\"white\",\"automargin\":true,\"zerolinewidth\":2},\"yaxis\":{\"gridcolor\":\"white\",\"linecolor\":\"white\",\"ticks\":\"\",\"title\":{\"standoff\":15},\"zerolinecolor\":\"white\",\"automargin\":true,\"zerolinewidth\":2},\"scene\":{\"xaxis\":{\"backgroundcolor\":\"#E5ECF6\",\"gridcolor\":\"white\",\"linecolor\":\"white\",\"showbackground\":true,\"ticks\":\"\",\"zerolinecolor\":\"white\",\"gridwidth\":2},\"yaxis\":{\"backgroundcolor\":\"#E5ECF6\",\"gridcolor\":\"white\",\"linecolor\":\"white\",\"showbackground\":true,\"ticks\":\"\",\"zerolinecolor\":\"white\",\"gridwidth\":2},\"zaxis\":{\"backgroundcolor\":\"#E5ECF6\",\"gridcolor\":\"white\",\"linecolor\":\"white\",\"showbackground\":true,\"ticks\":\"\",\"zerolinecolor\":\"white\",\"gridwidth\":2}},\"shapedefaults\":{\"line\":{\"color\":\"#2a3f5f\"}},\"annotationdefaults\":{\"arrowcolor\":\"#2a3f5f\",\"arrowhead\":0,\"arrowwidth\":1},\"geo\":{\"bgcolor\":\"white\",\"landcolor\":\"#E5ECF6\",\"subunitcolor\":\"white\",\"showland\":true,\"showlakes\":true,\"lakecolor\":\"white\"},\"title\":{\"x\":0.05},\"mapbox\":{\"style\":\"light\"}}},\"scene\":{\"domain\":{\"x\":[0.0,1.0],\"y\":[0.0,1.0]},\"xaxis\":{\"title\":{\"text\":\"x\"}},\"yaxis\":{\"title\":{\"text\":\"y\"}},\"zaxis\":{\"title\":{\"text\":\"z\"}}},\"legend\":{\"title\":{\"text\":\"label\"},\"tracegroupgap\":0},\"title\":{\"text\":\"3D Scatter Plot Example\"}},                        {\"responsive\": true}                    ).then(function(){\n",
              "                            \n",
              "var gd = document.getElementById('f7b8fb6d-61f4-4121-a608-b14d32cd29ae');\n",
              "var x = new MutationObserver(function (mutations, observer) {{\n",
              "        var display = window.getComputedStyle(gd).display;\n",
              "        if (!display || display === 'none') {{\n",
              "            console.log([gd, 'removed!']);\n",
              "            Plotly.purge(gd);\n",
              "            observer.disconnect();\n",
              "        }}\n",
              "}});\n",
              "\n",
              "// Listen for the removal of the full notebook cells\n",
              "var notebookContainer = gd.closest('#notebook-container');\n",
              "if (notebookContainer) {{\n",
              "    x.observe(notebookContainer, {childList: true});\n",
              "}}\n",
              "\n",
              "// Listen for the clearing of the current output cell\n",
              "var outputEl = gd.closest('.output');\n",
              "if (outputEl) {{\n",
              "    x.observe(outputEl, {childList: true});\n",
              "}}\n",
              "\n",
              "                        })                };                            </script>        </div>\n",
              "</body>\n",
              "</html>"
            ]
          },
          "metadata": {}
        }
      ],
      "source": [
        "import plotly.express as px\n",
        "import pandas as pd\n",
        "\n",
        "# Sample data\n",
        "df = pd.DataFrame({\n",
        "    'x': [1, 2, 3, 4, 5],\n",
        "    'y': [10, 11, 12, 13, 14],\n",
        "    'z': [5, 4, 3, 2, 1],\n",
        "    'label': ['A', 'B', 'C', 'D', 'E']\n",
        "})\n",
        "\n",
        "# Create 3D scatter plot\n",
        "fig = px.scatter_3d(df, x='x', y='y', z='z', color='label',\n",
        "                    title='3D Scatter Plot Example')\n",
        "\n",
        "# Show the plot\n",
        "fig.show()"
      ]
    }
  ],
  "metadata": {
    "colab": {
      "provenance": []
    },
    "kernelspec": {
      "display_name": "Python 3",
      "name": "python3"
    },
    "language_info": {
      "name": "python"
    }
  },
  "nbformat": 4,
  "nbformat_minor": 0
}